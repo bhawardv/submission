{
 "cells": [
  {
   "cell_type": "markdown",
   "id": "e7b4eb20-c638-4636-bc3e-507677e5379d",
   "metadata": {
    "tags": []
   },
   "source": [
    "# My Jupyter Notebook On  IBM Watson Studio"
   ]
  },
  {
   "cell_type": "markdown",
   "id": "de8f8c74-adab-4247-b47d-5b1839fe44cf",
   "metadata": {},
   "source": [
    " __BHAWAR PAL YADAV__ <br>\n",
    " Data Scientist"
   ]
  },
  {
   "cell_type": "markdown",
   "id": "87bdb3c9-a25f-4132-b13f-cf887e5adfa6",
   "metadata": {},
   "source": [
    "_I am interested in data science because i am more passionate about the data and the result after analyzing the data with data tools and tasks. It gives us the opportunity to understand the pattern and give the desired or near to desired result. eg. Netflix movie recommendation, Amozon product recommendation or Uber nearest driver location._"
   ]
  },
  {
   "cell_type": "markdown",
   "id": "fa83c0b3-5e08-4b73-bbee-5f222e1ceadc",
   "metadata": {
    "tags": []
   },
   "source": [
    "### Simple Mathematics calculation"
   ]
  },
  {
   "cell_type": "code",
   "execution_count": 4,
   "id": "2a7ddb1a-95b0-4a61-9b00-c0c76f07d837",
   "metadata": {},
   "outputs": [
    {
     "data": {
      "text/plain": [
       "7"
      ]
     },
     "execution_count": 4,
     "metadata": {},
     "output_type": "execute_result"
    }
   ],
   "source": [
    "1+2*3\n"
   ]
  },
  {
   "cell_type": "markdown",
   "id": "14041b73-3ed7-47c6-83dc-5e91c2113be5",
   "metadata": {},
   "source": [
    "***\n",
    "Horizontal Rule\n",
    "***\n",
    "\n",
    "* Bullet list 1\n",
    "* Bullet list 2\n",
    "\n",
    "1. Number list 1\n",
    "2. Number list 2\n",
    "\n",
    "\n",
    "\n",
    "|   Name       |   Surname |\n",
    "|  ----------  | --------  |\n",
    "|  Bhawar Pal  |  Yadav    |"
   ]
  }
 ],
 "metadata": {
  "kernelspec": {
   "display_name": "Python",
   "language": "python",
   "name": "conda-env-python-py"
  },
  "language_info": {
   "codemirror_mode": {
    "name": "ipython",
    "version": 3
   },
   "file_extension": ".py",
   "mimetype": "text/x-python",
   "name": "python",
   "nbconvert_exporter": "python",
   "pygments_lexer": "ipython3",
   "version": "3.7.12"
  }
 },
 "nbformat": 4,
 "nbformat_minor": 5
}
